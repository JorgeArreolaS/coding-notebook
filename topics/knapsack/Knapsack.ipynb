{
 "cells": [
  {
   "cell_type": "markdown",
   "id": "51626953-79eb-41ad-9118-eef7bc07d2b0",
   "metadata": {},
   "source": [
    "Knapsack\n",
    "---"
   ]
  },
  {
   "cell_type": "code",
   "execution_count": 1,
   "id": "c8958b15-1b4a-4fc9-b21c-fcf7c22003c3",
   "metadata": {},
   "outputs": [],
   "source": [
    "#include <iostream>\n",
    "#include <stdio.h>\n",
    "using namespace std;\n",
    "\n",
    "#define li long int\n",
    "#define printFor(c,n) for(int i = 0; i < n; i++) cout << c"
   ]
  },
  {
   "cell_type": "code",
   "execution_count": 8,
   "id": "5daa7e65-f330-4190-9170-71cef50becc7",
   "metadata": {},
   "outputs": [],
   "source": [
    "int P[] = {0, 7, 4, 4};\n",
    "int V[] = {0, 50, 26, 26};"
   ]
  },
  {
   "cell_type": "markdown",
   "id": "10668a93-df88-43f7-a08b-9c73aa05b74d",
   "metadata": {},
   "source": [
    "$$\n",
    "f(i, k)=\\left\\{\\begin{array}{l}\n",
    "    \\begin{array}{r}\n",
    "        0 & si & k=0 \\\\\n",
    "        0 & si & i=0 \\\\\n",
    "        -\\infty & si & k<0\n",
    "    \\end{array}\\\\\n",
    "    max \\begin{cases}\n",
    "        f(i-1, k) \\\\\n",
    "        f(i-1, k-P_i)+V_i\n",
    "    \\end{cases}\n",
    "\\end{array}\n",
    "\\right.\n",
    "$$\n"
   ]
  },
  {
   "cell_type": "markdown",
   "id": "8c490d47-d7ac-490e-b380-dc394dde005d",
   "metadata": {},
   "source": [
    "## Knapsack Visualized without memorization"
   ]
  },
  {
   "cell_type": "code",
   "execution_count": 53,
   "id": "841547b5-4c4d-4f08-9f5f-92cd344590e2",
   "metadata": {},
   "outputs": [],
   "source": [
    "li treeLvl = 0;"
   ]
  },
  {
   "cell_type": "code",
   "execution_count": 61,
   "id": "34a1b42f-1270-4676-ba80-d57e235490d6",
   "metadata": {},
   "outputs": [],
   "source": [
    "li mochila(li i, li k){\n",
    "    if( i < 0 || k == 0 ) return 0;\n",
    "    if( k < 0 ) return (1<<30)*-1; \n",
    "    treeLvl++;\n",
    "\n",
    "    printFor(\" |\", treeLvl); \n",
    "    printf(\"+ (%ld, %ld)\\n\", i, k);\n",
    "    \n",
    "    li a = mochila( i-1, k );\n",
    "    li b = mochila( i-1, k-P[i] ) + V[i];\n",
    "    \n",
    "    printFor(\" |\", treeLvl); \n",
    "    printf(\"> %ld & %ld (%ld)\\n\", a, b, max(a, b));\n",
    "        \n",
    "    treeLvl--;\n",
    "    return max( a, b );\n",
    "}"
   ]
  },
  {
   "cell_type": "code",
   "execution_count": 62,
   "id": "12e2d28b-4388-41f5-a043-5b98831a5f9d",
   "metadata": {},
   "outputs": [
    {
     "name": "stdout",
     "output_type": "stream",
     "text": [
      " |+ (3, 8)\n",
      " | |+ (2, 8)\n",
      " | | |+ (1, 8)\n",
      " | | | |+ (0, 8)\n",
      " | | | |> 0 & 0 (0)\n",
      " | | | |+ (0, 1)\n",
      " | | | |> 0 & 0 (0)\n",
      " | | |> 0 & 50 (50)\n",
      " | | |+ (1, 4)\n",
      " | | | |+ (0, 4)\n",
      " | | | |> 0 & 0 (0)\n",
      " | | |> 0 & -1073741774 (0)\n",
      " | |> 50 & 26 (50)\n",
      " | |+ (2, 4)\n",
      " | | |+ (1, 4)\n",
      " | | | |+ (0, 4)\n",
      " | | | |> 0 & 0 (0)\n",
      " | | |> 0 & -1073741774 (0)\n",
      " | |> 0 & 26 (26)\n",
      " |> 50 & 52 (52)\n"
     ]
    },
    {
     "data": {
      "text/plain": [
       "52"
      ]
     },
     "execution_count": 62,
     "metadata": {},
     "output_type": "execute_result"
    }
   ],
   "source": [
    "mochila(3, 8)"
   ]
  },
  {
   "cell_type": "code",
   "execution_count": null,
   "id": "fbf91601-32a0-417e-a17d-bae61afb6e47",
   "metadata": {},
   "outputs": [],
   "source": []
  }
 ],
 "metadata": {
  "kernelspec": {
   "display_name": "C++11",
   "language": "C++11",
   "name": "xcpp11"
  },
  "language_info": {
   "codemirror_mode": "text/x-c++src",
   "file_extension": ".cpp",
   "mimetype": "text/x-c++src",
   "name": "c++",
   "version": "11"
  }
 },
 "nbformat": 4,
 "nbformat_minor": 5
}
