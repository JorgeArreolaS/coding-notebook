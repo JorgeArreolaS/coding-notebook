{
 "cells": [
  {
   "cell_type": "code",
   "execution_count": 1,
   "id": "d6cdc4ca-3fc3-424a-9190-81d72a8d90f5",
   "metadata": {},
   "outputs": [],
   "source": [
    "#include <iostream>\n",
    "#include <stdio.h>\n",
    "#include <vector>\n",
    "#include <cmath>\n",
    "using namespace std;"
   ]
  },
  {
   "cell_type": "code",
   "execution_count": 29,
   "id": "d0070fb6-c361-409c-931b-0ca754d3f7a1",
   "metadata": {},
   "outputs": [],
   "source": [
    "const int LIMIT = 2*10e9;\n",
    "int n = 100;\n",
    "int printStart = 50, printEnd = printStart+40;"
   ]
  },
  {
   "cell_type": "code",
   "execution_count": 30,
   "id": "02cbfdea-9aa6-4af8-b2f0-891e34f796b0",
   "metadata": {},
   "outputs": [],
   "source": [
    "int is_prime[LIMIT];\n",
    "for(int i = 1; i < n; i++) is_prime[i] = true;"
   ]
  },
  {
   "cell_type": "code",
   "execution_count": 4,
   "id": "5a51ed75-e909-41d5-a00f-f651e1bc2620",
   "metadata": {},
   "outputs": [
    {
     "name": "stdout",
     "output_type": "stream",
     "text": [
      "50 51 52 53 54 55 56 57 58 59 60 61 62 63 64 65 66 67 68 69 70 71 72 73 74 75 76 77 78 79 80 81 82 83 84 85 86 87 88 89 \n",
      " 1  1  1  1  1  1  1  1  1  1  1  1  1  1  1  1  1  1  1  1  1  1  1  1  1  1  1  1  1  1  1  1  1  1  1  1  1  1  1  1 \n"
     ]
    }
   ],
   "source": [
    "for(int i = printStart; i < printEnd; i++) printf(\"%2d \", i ); cout << endl;\n",
    "for(int i = printStart; i < printEnd; i++) printf(\"%2d \", is_prime[i] ); cout << endl;"
   ]
  },
  {
   "cell_type": "code",
   "execution_count": 5,
   "id": "8287adf3-1923-4618-87e4-6223d7c57ca8",
   "metadata": {},
   "outputs": [],
   "source": [
    "for(int i = 2; i < sqrt(n); i++){\n",
    "    if( is_prime[i] ){\n",
    "        for(int j = i*2; j < n; j+=i)\n",
    "            is_prime[j] = false;\n",
    "    }\n",
    "}"
   ]
  },
  {
   "cell_type": "code",
   "execution_count": 6,
   "id": "99f259c3-bd97-4343-921f-8ec28c1696df",
   "metadata": {},
   "outputs": [
    {
     "name": "stdout",
     "output_type": "stream",
     "text": [
      "50 51 52 53 54 55 56 57 58 59 60 61 62 63 64 65 66 67 68 69 70 71 72 73 74 75 76 77 78 79 80 81 82 83 84 85 86 87 88 89 \n",
      " 0  0  0  1  0  0  0  0  0  1  0  1  0  0  0  0  0  1  0  0  0  1  0  1  0  0  0  0  0  1  0  0  0  1  0  0  0  0  0  1 \n"
     ]
    }
   ],
   "source": [
    "for(int i = printStart; i < printEnd; i++) printf(\"%2d \", i ); cout << endl;\n",
    "for(int i = printStart; i < printEnd; i++) printf(\"%2d \", is_prime[i] ); cout << endl;"
   ]
  },
  {
   "cell_type": "markdown",
   "id": "da605fc5-0ac1-4a92-a587-446a9a38fe27",
   "metadata": {},
   "source": [
    "# Conteo de primos"
   ]
  },
  {
   "cell_type": "code",
   "execution_count": 7,
   "id": "ad49b533-1aa5-4a58-9945-8c9e27778979",
   "metadata": {},
   "outputs": [],
   "source": [
    "int primes[LIMIT];"
   ]
  },
  {
   "cell_type": "code",
   "execution_count": 8,
   "id": "612c1831-395e-425b-8e45-a144118b0b89",
   "metadata": {},
   "outputs": [
    {
     "name": "stdout",
     "output_type": "stream",
     "text": [
      "50 51 52 53 54 55 56 57 58 59 60 61 62 63 64 65 66 67 68 69 70 71 72 73 74 75 76 77 78 79 80 81 82 83 84 85 86 87 88 89 \n",
      " 0  0  0  0  0  0  0  0  0  0  0  0  0  0  0  0  0  0  0  0  0  0  0  0  0  0  0  0  0  0  0  0  0  0  0  0  0  0  0  0 \n"
     ]
    }
   ],
   "source": [
    "for(int i = printStart; i < printEnd; i++) printf(\"%2d \", i ); cout << endl;\n",
    "for(int i = printStart; i < printEnd; i++) printf(\"%2d \", primes[i] ); cout << endl;"
   ]
  },
  {
   "cell_type": "code",
   "execution_count": 9,
   "id": "046d983f-89d8-4072-b9a2-66e2ce072c2d",
   "metadata": {},
   "outputs": [],
   "source": [
    "for(int i = 1; i < sqrt(n); i++){\n",
    "    if( primes[i] == 0 || primes[i] == 1 ){\n",
    "        for(int j = i; j < n; j+=i)\n",
    "            primes[j]++;\n",
    "    }\n",
    "}"
   ]
  },
  {
   "cell_type": "code",
   "execution_count": 10,
   "id": "f26ebaaf-0286-44b7-8c98-9e62285b6340",
   "metadata": {},
   "outputs": [
    {
     "name": "stdout",
     "output_type": "stream",
     "text": [
      "50 51 52 53 54 55 56 57 58 59 60 61 62 63 64 65 66 67 68 69 70 71 72 73 74 75 76 77 78 79 80 81 82 83 84 85 86 87 88 89 \n",
      " 3  2  2  1  3  2  3  2  2  1  4  1  2  3  2  2  3  1  2  2  4  1  3  1  2  3  2  2  3  1  3  2  2  1  4  2  2  2  2  1 \n"
     ]
    }
   ],
   "source": [
    "for(int i = printStart; i < printEnd; i++) printf(\"%2d \", i ); cout << endl;\n",
    "for(int i = printStart; i < printEnd; i++) printf(\"%2d \", primes[i] ); cout << endl;"
   ]
  },
  {
   "cell_type": "code",
   "execution_count": 23,
   "id": "30d846f2-516f-4806-b121-e879ef2bed8c",
   "metadata": {},
   "outputs": [],
   "source": [
    "int primes_list[LIMIT][LIMIT];\n",
    "int primes_count[LIMIT];\n",
    "int max_count = 0;"
   ]
  },
  {
   "cell_type": "code",
   "execution_count": 24,
   "id": "e005cec1-dc68-4ecb-8efb-06ee64f4b522",
   "metadata": {},
   "outputs": [],
   "source": [
    "for(int i = 2; i < sqrt(n); i++){\n",
    "    if( primes_count[i] == 0 ){\n",
    "        for(int j = i*2; j < n; j+=i){\n",
    "            primes_list[j][primes_count[j]] = i;\n",
    "            primes_count[j]++;\n",
    "            max_count = max(max_count, primes_count[j]);\n",
    "        }\n",
    "    }\n",
    "}"
   ]
  },
  {
   "cell_type": "code",
   "execution_count": 26,
   "id": "ab70dbda-af5f-4986-9a12-6469b89d7014",
   "metadata": {},
   "outputs": [
    {
     "name": "stdout",
     "output_type": "stream",
     "text": [
      " 2  3  4  5  6  7  8  9 10 11 12 13 14 15 16 17 18 19 20 21 22 23 24 25 26 27 28 29 30 31 32 33 34 35 36 37 38 39 40 41 \n",
      " 0  0  1  0  2  0  1  1  2  0  2  0  2  2  1  0  2  0  2  2  1  0  2  1  1  1  2  0  3  0  1  1  1  2  2  0  1  1  2  0 \n",
      "------------------------------------------------------------------------------------------------------------------------\n",
      " 0  0  2  0  2  0  2  3  2  0  2  0  2  3  2  0  2  0  2  3  2  0  2  5  2  3  2  0  2  0  2  3  2  5  2  0  2  3  2  0 \n",
      " 0  0  0  0  3  0  0  0  5  0  3  0  7  5  0  0  3  0  5  7  0  0  3  0  0  0  7  0  3  0  0  0  0  7  3  0  0  0  5  0 \n",
      " 0  0  0  0  0  0  0  0  0  0  0  0  0  0  0  0  0  0  0  0  0  0  0  0  0  0  0  0  5  0  0  0  0  0  0  0  0  0  0  0 \n",
      " 0  0  0  0  0  0  0  0  0  0  0  0  0  0  0  0  0  0  0  0  0  0  0  0  0  0  0  0  0  0  0  0  0  0  0  0  0  0  0  0 \n"
     ]
    }
   ],
   "source": [
    "printStart = 2; printEnd = printStart +40;\n",
    "for(int i = printStart; i < printEnd; i++) printf(\"%2d \", i ); cout << endl;\n",
    "for(int i = printStart; i < printEnd; i++) printf(\"%2d \", primes_count[i] ); cout << endl;\n",
    "for(int i = printStart; i < printEnd; i++) printf(\"---\" ); cout << endl;\n",
    "for(int j = 0; j <= max_count; j++) {\n",
    "    for(int i = printStart; i < printEnd; i++) {\n",
    "        printf(\"%2d \", primes_list[i][j] ); \n",
    "    }\n",
    "    cout << endl;\n",
    "}"
   ]
  },
  {
   "cell_type": "code",
   "execution_count": null,
   "id": "0e84d677-7907-4f99-8b9f-deac0797f9a3",
   "metadata": {},
   "outputs": [],
   "source": []
  }
 ],
 "metadata": {
  "kernelspec": {
   "display_name": "C++17",
   "language": "C++17",
   "name": "xcpp17"
  },
  "language_info": {
   "codemirror_mode": "text/x-c++src",
   "file_extension": ".cpp",
   "mimetype": "text/x-c++src",
   "name": "c++",
   "version": "17"
  }
 },
 "nbformat": 4,
 "nbformat_minor": 5
}
