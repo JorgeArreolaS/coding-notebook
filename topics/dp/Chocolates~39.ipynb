{
 "cells": [
  {
   "cell_type": "markdown",
   "id": "b743d7cc-d627-4f6a-a167-d35c520e52c7",
   "metadata": {},
   "source": [
    "# 39. Los Chocolates del Agente Nieves\n",
    "\n",
    "https://omegaup.com/arena/problem/chocolates/"
   ]
  },
  {
   "cell_type": "markdown",
   "id": "001f4d62-939a-44ab-ad51-89981644a536",
   "metadata": {},
   "source": [
    "$$\n",
    "\\begin{split}\n",
    "dias = n-(fin-ini)\n",
    "\\end{split}\n",
    "$$\n",
    "\n",
    "$$\n",
    "f(ini, fin) = \\left\\{\\begin{array}{l}\n",
    "    \\begin{array}{r}\n",
    "        n*P_{ini}&si&ini =fin \n",
    "    \\end{array}\\\\\n",
    "    max \\begin{cases}\n",
    "        f(ini+1, fin) + P_{ini}*dias \\\\\n",
    "        f(ini, fin-1) + P_{fin}*dias\n",
    "    \\end{cases}\n",
    "\\end{array}\n",
    "\\right.\n",
    "$$"
   ]
  },
  {
   "cell_type": "raw",
   "id": "ffbaa701-bb7e-4db5-9e41-c1b9d924a498",
   "metadata": {},
   "source": [
    "5\n",
    "2 1 5 3 4"
   ]
  },
  {
   "cell_type": "code",
   "execution_count": 2,
   "id": "1944d2c5-c91b-41fc-983e-f38283947622",
   "metadata": {},
   "outputs": [],
   "source": [
    "#include <iostream>\n",
    "using namespace std;\n",
    "\n",
    "int n, P[1005], memo[1005][1005];"
   ]
  },
  {
   "cell_type": "code",
   "execution_count": 3,
   "id": "b8964267-7489-4e97-986c-54545c38427e",
   "metadata": {},
   "outputs": [],
   "source": [
    "int chocolates(int ini, int fin){\n",
    "    if( memo[ini][fin] > 0 ) return memo[ini][fin];\n",
    "    if(ini == fin) return n*P[ini];\n",
    "    int dias = n-(fin-ini);\n",
    "    return memo[ini][fin] = max(\n",
    "        chocolates(ini+1, fin)+P[ini]*dias,\n",
    "        chocolates(ini, fin-1)+P[fin]*dias\n",
    "    );\n",
    "}"
   ]
  },
  {
   "cell_type": "code",
   "execution_count": 4,
   "id": "5dcaaddb-5541-4bf9-9c76-a0c36d19044b",
   "metadata": {},
   "outputs": [],
   "source": [
    "int main(){\n",
    "    \n",
    "    cin >> n;\n",
    "    for(int i = 1; i <= n; i++)\n",
    "        cin >> P[i];\n",
    "    cout << chocolates(1, n);\n",
    "    \n",
    "    return 0;\n",
    "}"
   ]
  },
  {
   "cell_type": "code",
   "execution_count": 22,
   "id": "97859150-2b1c-4198-b13e-f7389e298033",
   "metadata": {},
   "outputs": [
    {
     "name": "stdin",
     "output_type": "stream",
     "text": [
      " 5 2 1 5 3 4\n"
     ]
    },
    {
     "name": "stdout",
     "output_type": "stream",
     "text": [
      "53"
     ]
    }
   ],
   "source": [
    "main();"
   ]
  }
 ],
 "metadata": {
  "kernelspec": {
   "display_name": "C++11",
   "language": "C++11",
   "name": "xcpp11"
  },
  "language_info": {
   "codemirror_mode": "text/x-c++src",
   "file_extension": ".cpp",
   "mimetype": "text/x-c++src",
   "name": "c++",
   "version": "11"
  }
 },
 "nbformat": 4,
 "nbformat_minor": 5
}
