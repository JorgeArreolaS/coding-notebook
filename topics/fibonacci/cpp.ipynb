{
 "cells": [
  {
   "cell_type": "code",
   "execution_count": 1,
   "id": "144d1b86-ef7d-4470-9baa-b79d2ddbaf32",
   "metadata": {},
   "outputs": [],
   "source": [
    "#include <iostream>\n",
    "#include <stdio.h>\n",
    "using namespace std;"
   ]
  },
  {
   "cell_type": "code",
   "execution_count": 2,
   "id": "f3379f0c-3470-4e80-a1b6-d827b05fa4cb",
   "metadata": {},
   "outputs": [],
   "source": [
    "#define RES \"\\u001b[0m\"\n",
    "#define RED \"\\u001b[31m\"\n",
    "#define GRE \"\\u001b[32m\"\n",
    "#define YEL \"\\u001b[33m\"\n",
    "#define BRI_WHI \"\\u001b[37;1m\""
   ]
  },
  {
   "cell_type": "code",
   "execution_count": 3,
   "id": "b738d2d7-f262-4615-83da-e7c1c7abf1a2",
   "metadata": {},
   "outputs": [],
   "source": [
    "#define n 20"
   ]
  },
  {
   "cell_type": "markdown",
   "id": "14d5a167-08d8-4856-bf41-3dc0e096f609",
   "metadata": {},
   "source": [
    "# Forward"
   ]
  },
  {
   "cell_type": "markdown",
   "id": "6963135e-defc-4e0a-abf4-bcb1057f43e2",
   "metadata": {},
   "source": [
    "## Array"
   ]
  },
  {
   "cell_type": "code",
   "execution_count": 4,
   "id": "6da659e8-66a2-437d-8b5e-6661e3a847c6",
   "metadata": {},
   "outputs": [
    {
     "data": {
      "text/plain": [
       "{ 1, 1, 2, 3, 5, 8, 13, 21, 34, 55, 89, 144, 233, 377, 610, 987, 1597, 2584, 4181, 6765 }"
      ]
     },
     "execution_count": 4,
     "metadata": {},
     "output_type": "execute_result"
    }
   ],
   "source": [
    "int m[n];\n",
    "m[0] = 1;\n",
    "m[1] = 1;\n",
    "for(int i = 1; i < n-1; i++){\n",
    "    m[i+1] = m[i]+m[i-1];\n",
    "}\n",
    "m"
   ]
  },
  {
   "cell_type": "markdown",
   "id": "cea8d790-e3c4-4a50-9f64-f4fcc9b5ee28",
   "metadata": {},
   "source": [
    "## Temp variables\n",
    "\n",
    "3 variable assignments per iteration"
   ]
  },
  {
   "cell_type": "code",
   "execution_count": 5,
   "id": "1bdd5aeb-a183-4b41-8172-db7b8b3109d8",
   "metadata": {},
   "outputs": [
    {
     "name": "stdout",
     "output_type": "stream",
     "text": [
      "1 1 2 3 5 8 13 21 34 55 89 144 233 377 610 987 1597 2584 4181 6765 "
     ]
    }
   ],
   "source": [
    "int a = 1;\n",
    "int b = 1;\n",
    "int t;\n",
    "for(int i = 0; i < n; i++){\n",
    "    cout << a << \" \";\n",
    "    t = b;\n",
    "    b = a+b;\n",
    "    a = t;\n",
    "}"
   ]
  },
  {
   "cell_type": "markdown",
   "id": "54f7dd0a-e44e-4b6d-bf28-055a6b2617ab",
   "metadata": {},
   "source": [
    "## Tri-State\n",
    "\n",
    "1 variable assignment per iteration"
   ]
  },
  {
   "cell_type": "code",
   "execution_count": 6,
   "id": "efccf4d4-9ac9-4b74-812f-5ef3989583b9",
   "metadata": {},
   "outputs": [
    {
     "name": "stdout",
     "output_type": "stream",
     "text": [
      "1 1 2 3 5 8 13 21 34 55 89 144 233 377 610 987 1597 2584 4181 6765 "
     ]
    }
   ],
   "source": [
    "// an idea when I was taking a shower\n",
    "int a = 1;\n",
    "int b = 1;\n",
    "int c = 0;\n",
    "for(int i = 1; i <= n; i++){\n",
    "    if( i%3 == 1 ){ // first\n",
    "        cout << a;\n",
    "        c = a+b;\n",
    "    }\n",
    "    if( i%3 == 2 ){ // second\n",
    "        cout << b;\n",
    "        a = b+c;\n",
    "    }\n",
    "    if( i%3 == 0 ){ // third\n",
    "        cout << c;\n",
    "        b = a+c;\n",
    "    }\n",
    "    cout << \" \";\n",
    "} "
   ]
  },
  {
   "cell_type": "markdown",
   "id": "8802a15f-7b16-4da7-8ee6-da2ae467799f",
   "metadata": {},
   "source": [
    "### Graphic aproach"
   ]
  },
  {
   "cell_type": "code",
   "execution_count": 7,
   "id": "ba1b9dae-3c16-4a20-85b0-55e3b5daffb5",
   "metadata": {},
   "outputs": [
    {
     "name": "stdout",
     "output_type": "stream",
     "text": [
      " index | number | state a | state b | state c |  detail |\n",
      "-------|--------|---------|---------|---------|---------|\n",
      "     0 | \u001b[32m     1 \u001b[0m|\u001b[32m       1 \u001b[0m|       1 |       2 | c = a+b |\n",
      "     1 | \u001b[33m     1 \u001b[0m|       3 |\u001b[33m       1 \u001b[0m|       2 | a = b+c |\n",
      "     2 | \u001b[31m     2 \u001b[0m|       3 |       5 |\u001b[31m       2 \u001b[0m| b = a+c |\n",
      "     3 | \u001b[32m     3 \u001b[0m|\u001b[32m       3 \u001b[0m|       5 |       8 | c = a+b |\n",
      "     4 | \u001b[33m     5 \u001b[0m|      13 |\u001b[33m       5 \u001b[0m|       8 | a = b+c |\n",
      "     5 | \u001b[31m     8 \u001b[0m|      13 |      21 |\u001b[31m       8 \u001b[0m| b = a+c |\n",
      "     6 | \u001b[32m    13 \u001b[0m|\u001b[32m      13 \u001b[0m|      21 |      34 | c = a+b |\n",
      "     7 | \u001b[33m    21 \u001b[0m|      55 |\u001b[33m      21 \u001b[0m|      34 | a = b+c |\n",
      "     8 | \u001b[31m    34 \u001b[0m|      55 |      89 |\u001b[31m      34 \u001b[0m| b = a+c |\n",
      "     9 | \u001b[32m    55 \u001b[0m|\u001b[32m      55 \u001b[0m|      89 |     144 | c = a+b |\n",
      "    10 | \u001b[33m    89 \u001b[0m|     233 |\u001b[33m      89 \u001b[0m|     144 | a = b+c |\n",
      "    11 | \u001b[31m   144 \u001b[0m|     233 |     377 |\u001b[31m     144 \u001b[0m| b = a+c |\n",
      "    12 | \u001b[32m   233 \u001b[0m|\u001b[32m     233 \u001b[0m|     377 |     610 | c = a+b |\n",
      "    13 | \u001b[33m   377 \u001b[0m|     987 |\u001b[33m     377 \u001b[0m|     610 | a = b+c |\n",
      "    14 | \u001b[31m   610 \u001b[0m|     987 |    1597 |\u001b[31m     610 \u001b[0m| b = a+c |\n",
      "    15 | \u001b[32m   987 \u001b[0m|\u001b[32m     987 \u001b[0m|    1597 |    2584 | c = a+b |\n",
      "    16 | \u001b[33m  1597 \u001b[0m|    4181 |\u001b[33m    1597 \u001b[0m|    2584 | a = b+c |\n",
      "    17 | \u001b[31m  2584 \u001b[0m|    4181 |    6765 |\u001b[31m    2584 \u001b[0m| b = a+c |\n",
      "    18 | \u001b[32m  4181 \u001b[0m|\u001b[32m    4181 \u001b[0m|    6765 |   10946 | c = a+b |\n",
      "    19 | \u001b[33m  6765 \u001b[0m|   17711 |\u001b[33m    6765 \u001b[0m|   10946 | a = b+c |\n"
     ]
    }
   ],
   "source": [
    "int a = 1;\n",
    "int b = 1;\n",
    "int c = 0;\n",
    "printf(\" index | number | state a | state b | state c |  detail |\\n\");\n",
    "printf(\"-------|--------|---------|---------|---------|---------|\\n\");\n",
    "for(int i = 1; i <= n; i++){\n",
    "    printf(\" %5d | \", i-1);\n",
    "    if( i%3 == 1 ){ // first\n",
    "        c = a+b;\n",
    "        printf(\"%s %5d %s|%s %7d %s| %7d | %7d | c = a+b |\\n\", GRE, a, RES, GRE, a, RES, b, c);\n",
    "    }\n",
    "    if( i%3 == 2 ){ // second\n",
    "        a = b+c;\n",
    "        printf(\"%s %5d %s| %7d |%s %7d %s| %7d | a = b+c |\\n\", YEL, b, RES, a, YEL, b, RES, c);\n",
    "    }\n",
    "    if( i%3 == 0 ){ // third\n",
    "        b = a+c;\n",
    "        printf(\"%s %5d %s| %7d | %7d |%s %7d %s| b = a+c |\\n\", RED, c, RES, a, b, RED, c, RES);\n",
    "    }\n",
    "} "
   ]
  },
  {
   "cell_type": "markdown",
   "id": "1a68724d-5d0e-4e2e-9acc-4daa2393c892",
   "metadata": {},
   "source": [
    "# Backwards"
   ]
  },
  {
   "cell_type": "code",
   "execution_count": 8,
   "id": "7b08e16d-4619-4701-a076-66ffa8f712f1",
   "metadata": {},
   "outputs": [],
   "source": [
    "int start = 6765;"
   ]
  },
  {
   "cell_type": "markdown",
   "id": "7035230e-8e9c-424d-b2ec-93827f16856b",
   "metadata": {},
   "source": [
    "## Temp Variables"
   ]
  },
  {
   "cell_type": "code",
   "execution_count": 9,
   "id": "4101b3f9-def5-4762-aac5-a099b862f641",
   "metadata": {},
   "outputs": [
    {
     "name": "stdout",
     "output_type": "stream",
     "text": [
      "6765 4181 2584 1597 987 610 377 233 144 89 55 34 21 13 8 5 3 2 1 1 "
     ]
    }
   ],
   "source": [
    "int a = 6765;\n",
    "int b = 4181;\n",
    "int c;\n",
    "while( a > 0 ){\n",
    "    cout << a << \" \";\n",
    "    c = a-b;\n",
    "    a = b;\n",
    "    b = c;\n",
    "}"
   ]
  }
 ],
 "metadata": {
  "kernelspec": {
   "display_name": "C++11",
   "language": "C++11",
   "name": "xcpp11"
  },
  "language_info": {
   "codemirror_mode": "text/x-c++src",
   "file_extension": ".cpp",
   "mimetype": "text/x-c++src",
   "name": "c++",
   "version": "11"
  }
 },
 "nbformat": 4,
 "nbformat_minor": 5
}
