{
 "cells": [
  {
   "cell_type": "code",
   "execution_count": 2,
   "id": "97a785dd-94bb-4cbc-a184-4b25fc150cee",
   "metadata": {},
   "outputs": [],
   "source": [
    "#include <iostream>\n",
    "using namespace std;"
   ]
  },
  {
   "cell_type": "code",
   "execution_count": null,
   "id": "b23350b3-7e94-4d39-85c8-766e28c12b74",
   "metadata": {},
   "outputs": [],
   "source": [
    "//#define ABREVIATURA .asd.as.da.sd.as as.d a.sd a.s .das."
   ]
  },
  {
   "cell_type": "code",
   "execution_count": 4,
   "id": "6991032f-3a6b-4590-be12-6ac3b3d30631",
   "metadata": {},
   "outputs": [],
   "source": [
    "#define lli long long int"
   ]
  },
  {
   "cell_type": "code",
   "execution_count": 5,
   "id": "6a6b9ff1-870a-4faa-bcab-0c2bde37ea43",
   "metadata": {},
   "outputs": [],
   "source": [
    "long long int x;"
   ]
  },
  {
   "cell_type": "code",
   "execution_count": 6,
   "id": "b6e24232-05cd-4034-91be-e8965fc197fd",
   "metadata": {},
   "outputs": [],
   "source": [
    "lli x;"
   ]
  },
  {
   "cell_type": "code",
   "execution_count": 7,
   "id": "fd712daf-bba2-44d2-bb40-d3c99a5e22f0",
   "metadata": {},
   "outputs": [],
   "source": [
    "#define ulli unsigned long long int"
   ]
  },
  {
   "cell_type": "code",
   "execution_count": null,
   "id": "0262e339-cf9f-4461-abfa-df41a44adf0d",
   "metadata": {},
   "outputs": [],
   "source": [
    "ulli x;"
   ]
  },
  {
   "cell_type": "code",
   "execution_count": 5,
   "id": "2e9cb199-e917-4bb2-ab53-2a533a8f7fe4",
   "metadata": {},
   "outputs": [],
   "source": [
    "#include <utility>"
   ]
  },
  {
   "cell_type": "code",
   "execution_count": 6,
   "id": "4009a01f-38a0-45b0-abe5-e44f2ab04a70",
   "metadata": {},
   "outputs": [],
   "source": [
    "pair<int, int> par;"
   ]
  },
  {
   "cell_type": "code",
   "execution_count": 7,
   "id": "cc598206-7ff2-4bc7-af9c-3f4a77d788cb",
   "metadata": {},
   "outputs": [],
   "source": [
    "par.first = 1;"
   ]
  },
  {
   "cell_type": "code",
   "execution_count": 8,
   "id": "451c1869-f116-4327-86a7-a1efbda28a99",
   "metadata": {},
   "outputs": [],
   "source": [
    "par.second = 2;"
   ]
  },
  {
   "cell_type": "code",
   "execution_count": 9,
   "id": "74882976-573c-4a4b-9df8-add3fb4f20e3",
   "metadata": {},
   "outputs": [
    {
     "name": "stdout",
     "output_type": "stream",
     "text": [
      "1"
     ]
    },
    {
     "data": {
      "text/plain": [
       "@0x7fac869d4ba0"
      ]
     },
     "execution_count": 9,
     "metadata": {},
     "output_type": "execute_result"
    }
   ],
   "source": [
    "cout << par.first"
   ]
  },
  {
   "cell_type": "code",
   "execution_count": 10,
   "id": "ac474f60-b1b6-4f07-93dc-caa15b38f2b0",
   "metadata": {},
   "outputs": [
    {
     "name": "stdout",
     "output_type": "stream",
     "text": [
      "2"
     ]
    },
    {
     "data": {
      "text/plain": [
       "@0x7fac869d4ba0"
      ]
     },
     "execution_count": 10,
     "metadata": {},
     "output_type": "execute_result"
    }
   ],
   "source": [
    "cout << par.second"
   ]
  },
  {
   "cell_type": "code",
   "execution_count": 11,
   "id": "936f0fb8-8f72-4ec0-b8bb-c3f5ebe1b947",
   "metadata": {},
   "outputs": [],
   "source": [
    "#define p first\n",
    "#define h second"
   ]
  },
  {
   "cell_type": "code",
   "execution_count": 12,
   "id": "21d79e15-ef2c-435d-9ca8-5aa84f1e8f9b",
   "metadata": {},
   "outputs": [
    {
     "name": "stdout",
     "output_type": "stream",
     "text": [
      "1"
     ]
    },
    {
     "data": {
      "text/plain": [
       "@0x7fac869d4ba0"
      ]
     },
     "execution_count": 12,
     "metadata": {},
     "output_type": "execute_result"
    }
   ],
   "source": [
    "cout << par.f"
   ]
  },
  {
   "cell_type": "code",
   "execution_count": 13,
   "id": "8957f5df-26f3-4da0-b4a0-c0f51e3170f6",
   "metadata": {},
   "outputs": [
    {
     "name": "stdout",
     "output_type": "stream",
     "text": [
      "2"
     ]
    },
    {
     "data": {
      "text/plain": [
       "@0x7fac869d4ba0"
      ]
     },
     "execution_count": 13,
     "metadata": {},
     "output_type": "execute_result"
    }
   ],
   "source": [
    "cout << par.s"
   ]
  },
  {
   "cell_type": "code",
   "execution_count": 14,
   "id": "cfa47e4d-ff8e-43b9-8d2b-78da74b231c5",
   "metadata": {},
   "outputs": [],
   "source": [
    "#define printFor(c,n) for(int i = 0; i < n; i++) cout << c"
   ]
  },
  {
   "cell_type": "code",
   "execution_count": 15,
   "id": "00a7b4d6-d39c-45d9-9697-48fddf9f1396",
   "metadata": {},
   "outputs": [
    {
     "name": "stdout",
     "output_type": "stream",
     "text": [
      "-----"
     ]
    }
   ],
   "source": [
    "printFor(\"-\", 5);"
   ]
  },
  {
   "cell_type": "code",
   "execution_count": 16,
   "id": "603d068e-5b93-4f28-b873-83a345505698",
   "metadata": {},
   "outputs": [
    {
     "name": "stdout",
     "output_type": "stream",
     "text": [
      "********************"
     ]
    }
   ],
   "source": [
    "printFor(\"*\", 20);"
   ]
  },
  {
   "cell_type": "code",
   "execution_count": null,
   "id": "fa00c6a3-7e8b-44a2-b0e0-6b6ffc5aa85e",
   "metadata": {},
   "outputs": [],
   "source": []
  },
  {
   "cell_type": "code",
   "execution_count": 17,
   "id": "79b16b11-74d8-45b4-adeb-fc7deb2bbe39",
   "metadata": {},
   "outputs": [],
   "source": [
    "#include <stdio.h>"
   ]
  },
  {
   "cell_type": "markdown",
   "id": "54294a5e-64d3-443a-b77d-5d0e72c53779",
   "metadata": {},
   "source": [
    "# DEBUG"
   ]
  },
  {
   "cell_type": "code",
   "execution_count": 29,
   "id": "97dd9991-4069-4870-8f7a-c87b6bdf6849",
   "metadata": {},
   "outputs": [],
   "source": [
    "bool _debug = false;\n",
    "#define DEBUG if(_debug) "
   ]
  },
  {
   "cell_type": "code",
   "execution_count": 30,
   "id": "6b36028d-2379-401e-8eaf-d7dc06af7d03",
   "metadata": {},
   "outputs": [
    {
     "name": "stdout",
     "output_type": "stream",
     "text": [
      "3"
     ]
    }
   ],
   "source": [
    "int a = 1;\n",
    "DEBUG cout << a << endl;\n",
    "int b = 2;\n",
    "DEBUG cout << b << endl;\n",
    "int c = a+b;\n",
    "\n",
    "cout << c;"
   ]
  },
  {
   "cell_type": "code",
   "execution_count": null,
   "id": "e57368dc-5fa8-4d96-945b-2f0bbd2370b9",
   "metadata": {},
   "outputs": [],
   "source": []
  }
 ],
 "metadata": {
  "kernelspec": {
   "display_name": "C++17",
   "language": "C++17",
   "name": "xcpp17"
  },
  "language_info": {
   "codemirror_mode": "text/x-c++src",
   "file_extension": ".cpp",
   "mimetype": "text/x-c++src",
   "name": "c++",
   "version": "17"
  }
 },
 "nbformat": 4,
 "nbformat_minor": 5
}
