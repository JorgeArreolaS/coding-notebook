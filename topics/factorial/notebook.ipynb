{
 "cells": [
  {
   "cell_type": "code",
   "execution_count": 1,
   "id": "498d4a86-2e8b-4a54-84a9-e95c390f5357",
   "metadata": {},
   "outputs": [],
   "source": [
    "#include <iostream>\n",
    "#include <stdio.h>\n",
    "using namespace std;"
   ]
  },
  {
   "cell_type": "markdown",
   "id": "8180df9b-ca76-485f-b2fd-82c2b34471a0",
   "metadata": {},
   "source": [
    "# Factorials\n",
    "\n",
    "https://es.wikipedia.org/wiki/Factorial\n",
    "> Podemos definir el factorial de un número entero positivo n, expresado n!, como el producto de todos los números enteros positivos menores o iguales que n.\n",
    "$$ n! = 1*2*3*4 * \\dots *(n-1)* n $$"
   ]
  },
  {
   "cell_type": "code",
   "execution_count": 2,
   "id": "c7c7f4b0-fc3c-4883-a719-e2b06f0041cb",
   "metadata": {},
   "outputs": [],
   "source": [
    "int n = 10; "
   ]
  },
  {
   "cell_type": "markdown",
   "id": "89615ee7-f1a5-4b8d-8acf-9fd14fa86adb",
   "metadata": {},
   "source": [
    "## With for"
   ]
  },
  {
   "cell_type": "code",
   "execution_count": 3,
   "id": "b393c08d-c646-4318-ae84-230774a0c4b2",
   "metadata": {},
   "outputs": [
    {
     "name": "stdout",
     "output_type": "stream",
     "text": [
      "2, 6, 24, 120, 720, 5040, 40320, 362880, 3628800, "
     ]
    },
    {
     "data": {
      "text/plain": [
       "3628800"
      ]
     },
     "execution_count": 3,
     "metadata": {},
     "output_type": "execute_result"
    }
   ],
   "source": [
    "long long int value = 1;\n",
    "for( int i = 2; i <= n; i++){\n",
    "    value *= i;\n",
    "    cout << value << \", \";\n",
    "}\n",
    "value"
   ]
  },
  {
   "cell_type": "markdown",
   "id": "1049dca3-9158-488a-a925-195987a5351d",
   "metadata": {},
   "source": [
    "## Function"
   ]
  },
  {
   "cell_type": "code",
   "execution_count": 4,
   "id": "118d59ee-03f7-48c9-9b54-7aea00653080",
   "metadata": {},
   "outputs": [
    {
     "name": "stdout",
     "output_type": "stream",
     "text": [
      "6, 24, 120, 720, 5040, 40320, 362880, 3628800, "
     ]
    },
    {
     "data": {
      "text/plain": [
       "3628800"
      ]
     },
     "execution_count": 4,
     "metadata": {},
     "output_type": "execute_result"
    }
   ],
   "source": [
    "int factorial(int n){\n",
    "    if( n == 2) return 2;\n",
    "    int r = n*factorial(n-1);\n",
    "    cout << r << \", \";\n",
    "    return r;\n",
    "}\n",
    "factorial(n)"
   ]
  },
  {
   "cell_type": "markdown",
   "id": "88237737-c299-49db-b5f9-8c8abb14873d",
   "metadata": {},
   "source": [
    "# Divisores"
   ]
  },
  {
   "cell_type": "code",
   "execution_count": 23,
   "id": "d6f9f866-4870-429d-b7e6-c31f60e998d0",
   "metadata": {},
   "outputs": [],
   "source": [
    "#include <vector>\n",
    "int getDivisores(int x){\n",
    "    vector<int> divisores;\n",
    "    \n",
    "    for( int i = 1; i <= x; i++)\n",
    "        if( x%i == 0)\n",
    "            divisores.push_back(i);\n",
    "        \n",
    "    //cout << divisores.size() << \" - \";\n",
    "    //for( int i = 0; i < divisores.size(); i++)\n",
    "    //    printf(\"%2d, \", divisores[i]);\n",
    "    return divisores.size();\n",
    "}"
   ]
  },
  {
   "cell_type": "code",
   "execution_count": 24,
   "id": "e22f16f8-e517-4790-a3fc-c49afe2ea3ff",
   "metadata": {},
   "outputs": [
    {
     "data": {
      "text/plain": [
       "9"
      ]
     },
     "execution_count": 24,
     "metadata": {},
     "output_type": "execute_result"
    }
   ],
   "source": [
    "getDivisores(36)"
   ]
  },
  {
   "cell_type": "code",
   "execution_count": 32,
   "id": "cf1bdf77-e40c-4a03-a557-f4f058d0c2c6",
   "metadata": {},
   "outputs": [
    {
     "name": "stdout",
     "output_type": "stream",
     "text": [
      "1            1:   1\n",
      "2            2:   2\n",
      "3            6:   4\n",
      "4           24:   8\n",
      "5          120:  16\n",
      "6          720:  30\n",
      "7         5040:  60\n",
      "8        40320:  96\n",
      "9       362880: 160\n",
      "10     3628800: 270\n"
     ]
    },
    {
     "data": {
      "text/plain": [
       "3628800"
      ]
     },
     "execution_count": 32,
     "metadata": {},
     "output_type": "execute_result"
    }
   ],
   "source": [
    "long long int value = 1;\n",
    "for( int i = 1; i <= n; i++){\n",
    "    value *= i;\n",
    "    printf(\"%-3d %10lld: \", i, value);\n",
    "    int d = getDivisores(value);\n",
    "    printf(\"%3d\", d);\n",
    "    printf(\"\\n\");\n",
    "}\n",
    "value"
   ]
  }
 ],
 "metadata": {
  "kernelspec": {
   "display_name": "C++11",
   "language": "C++11",
   "name": "xcpp11"
  },
  "language_info": {
   "codemirror_mode": "text/x-c++src",
   "file_extension": ".cpp",
   "mimetype": "text/x-c++src",
   "name": "c++",
   "version": "11"
  }
 },
 "nbformat": 4,
 "nbformat_minor": 5
}
