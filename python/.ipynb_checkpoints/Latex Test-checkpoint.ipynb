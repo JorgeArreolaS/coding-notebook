{
 "cells": [
  {
   "cell_type": "markdown",
   "id": "d461a0ee",
   "metadata": {},
   "source": [
    "# Testing Latex\n",
    "\n",
    "> https://jupyter-notebook.readthedocs.io/en/stable/examples/Notebook/Typesetting%20Equations.html\n",
    "\n",
    "Thing: $E=mc^{2}$"
   ]
  },
  {
   "cell_type": "markdown",
   "id": "9c147845",
   "metadata": {},
   "source": [
    "\\begin{align}\n",
    "\\dot{x} & = \\sigma(y-x) \\\\\n",
    "\\dot{y} & = \\rho x - y - xz \\\\\n",
    "\\dot{z} & = -\\beta z + xy\n",
    "\\end{align}"
   ]
  },
  {
   "cell_type": "markdown",
   "id": "ac9d2455",
   "metadata": {},
   "source": [
    "Some text\n",
    "\n",
    "$$\n",
    "\\begin{array}{c}\n",
    "y_1 \\\\\\\n",
    "y_2 \\mathtt{t}_i \\\\\\\n",
    "z_{3,4}\n",
    "\\end{array}\n",
    "$$\n",
    "\n",
    "Middle hting\n",
    "\n",
    "$$\n",
    "x = 4^{a-1}\n",
    "$$\n",
    "\n",
    "End text"
   ]
  },
  {
   "cell_type": "markdown",
   "id": "db208c8a",
   "metadata": {},
   "source": [
    "\n",
    "$$\n",
    "U_n =\\sum_{i=1}^{n-1} 9^{n-1}10^{i-1}\n",
    "$$\n"
   ]
  },
  {
   "cell_type": "code",
   "execution_count": null,
   "id": "f10d263d",
   "metadata": {},
   "outputs": [],
   "source": []
  }
 ],
 "metadata": {
  "kernelspec": {
   "display_name": "Python 3",
   "language": "python",
   "name": "python3"
  },
  "language_info": {
   "codemirror_mode": {
    "name": "ipython",
    "version": 3
   },
   "file_extension": ".py",
   "mimetype": "text/x-python",
   "name": "python",
   "nbconvert_exporter": "python",
   "pygments_lexer": "ipython3",
   "version": "3.8.10"
  }
 },
 "nbformat": 4,
 "nbformat_minor": 5
}
