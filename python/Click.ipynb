{
 "cells": [
  {
   "cell_type": "code",
   "execution_count": 1,
   "id": "b1b66763-96c3-49e6-b261-13b121f93978",
   "metadata": {},
   "outputs": [],
   "source": [
    "import click"
   ]
  },
  {
   "cell_type": "code",
   "execution_count": 8,
   "id": "3d008403-c84b-41b6-8eef-4427a391aa6d",
   "metadata": {},
   "outputs": [],
   "source": [
    "def patch_jupyter_click_sreams():\n",
    "    \"\"\"see https://stackoverflow.com/a/49595790/221742 .\"\"\"\n",
    "    import sys\n",
    "    import ipykernel\n",
    "    import click  \n",
    "    if not 'PY2' in dir(click._compat) and isinstance(sys.stdout, ipykernel.iostream.OutStream):\n",
    "        click._compat._force_correct_text_writer = lambda stream, encoding, errors, force_writable: stream\n",
    "\n",
    "patch_jupyter_click_sreams()"
   ]
  },
  {
   "cell_type": "code",
   "execution_count": 10,
   "id": "957cd948-22d0-412f-b4c7-5ef931321252",
   "metadata": {},
   "outputs": [
    {
     "name": "stdout",
     "output_type": "stream",
     "text": [
      "Spreadsheet ID: :"
     ]
    },
    {
     "name": "stdin",
     "output_type": "stream",
     "text": [
      "  123123124\n"
     ]
    },
    {
     "data": {
      "text/plain": [
       "'123123124'"
      ]
     },
     "execution_count": 10,
     "metadata": {},
     "output_type": "execute_result"
    }
   ],
   "source": [
    "click.prompt(\"Spreadsheet ID: \")"
   ]
  },
  {
   "cell_type": "code",
   "execution_count": 11,
   "id": "96d23cc3-8215-4808-a920-28d2c657bf33",
   "metadata": {},
   "outputs": [
    {
     "name": "stdout",
     "output_type": "stream",
     "text": [
      "number [1]:"
     ]
    },
    {
     "name": "stdin",
     "output_type": "stream",
     "text": [
      "  s\n"
     ]
    },
    {
     "name": "stdout",
     "output_type": "stream",
     "text": [
      "Error: 's' is not a valid integer.\n",
      "number [1]:"
     ]
    },
    {
     "name": "stdin",
     "output_type": "stream",
     "text": [
      "  a\n"
     ]
    },
    {
     "name": "stdout",
     "output_type": "stream",
     "text": [
      "Error: 'a' is not a valid integer.\n",
      "number [1]:"
     ]
    },
    {
     "name": "stdin",
     "output_type": "stream",
     "text": [
      "  9\n"
     ]
    },
    {
     "data": {
      "text/plain": [
       "9"
      ]
     },
     "execution_count": 11,
     "metadata": {},
     "output_type": "execute_result"
    }
   ],
   "source": [
    "click.prompt(\"number\", type=int, default=1)"
   ]
  },
  {
   "cell_type": "code",
   "execution_count": 12,
   "id": "d331021e-af36-4716-8f50-4004f491c9cc",
   "metadata": {},
   "outputs": [
    {
     "name": "stdout",
     "output_type": "stream",
     "text": [
      "Sure? [y/N]: "
     ]
    },
    {
     "name": "stdin",
     "output_type": "stream",
     "text": [
      " y\n"
     ]
    },
    {
     "data": {
      "text/plain": [
       "True"
      ]
     },
     "execution_count": 12,
     "metadata": {},
     "output_type": "execute_result"
    }
   ],
   "source": [
    "click.confirm(\"Sure?\")"
   ]
  },
  {
   "cell_type": "code",
   "execution_count": null,
   "id": "5b9864f3-69aa-4183-b38f-f3221b16f138",
   "metadata": {},
   "outputs": [],
   "source": []
  }
 ],
 "metadata": {
  "kernelspec": {
   "display_name": "Python 3",
   "language": "python",
   "name": "python3"
  },
  "language_info": {
   "codemirror_mode": {
    "name": "ipython",
    "version": 3
   },
   "file_extension": ".py",
   "mimetype": "text/x-python",
   "name": "python",
   "nbconvert_exporter": "python",
   "pygments_lexer": "ipython3",
   "version": "3.9.6"
  }
 },
 "nbformat": 4,
 "nbformat_minor": 5
}
