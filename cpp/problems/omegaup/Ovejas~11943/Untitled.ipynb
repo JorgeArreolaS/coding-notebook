{
 "cells": [
  {
   "cell_type": "code",
   "execution_count": 159,
   "id": "a09a5651-be37-419c-aa05-7d188e4a7833",
   "metadata": {},
   "outputs": [
    {
     "name": "stdout",
     "output_type": "stream",
     "text": [
      "u00f1 \\u00f1 <class 'str'>\n",
      "u00e1 \\u00e1 <class 'str'>\n",
      "u00e1 \\u00e1 <class 'str'>\n",
      "u00e9 \\u00e9 <class 'str'>\n",
      "u00e1 \\u00e1 <class 'str'>\n",
      "u00e1 \\u00e1 <class 'str'>\n",
      "u00e1 \\u00e1 <class 'str'>\n",
      "u00e9 \\u00e9 <class 'str'>\n",
      "u00fa \\u00fa <class 'str'>\n",
      "u00e9 \\u00e9 <class 'str'>\n",
      "u00e1 \\u00e1 <class 'str'>\n",
      "u00e1 \\u00e1 <class 'str'>\n",
      "u00f3 \\u00f3 <class 'str'>\n",
      "u00ed \\u00ed <class 'str'>\n",
      "u00fa \\u00fa <class 'str'>\n",
      "u00fa \\u00fa <class 'str'>\n",
      "u00e1 \\u00e1 <class 'str'>\n",
      "u00ed \\u00ed <class 'str'>\n",
      "u00ed \\u00ed <class 'str'>\n",
      "u00f3 \\u00f3 <class 'str'>\n",
      "u00ed \\u00ed <class 'str'>\n",
      "u00e1 \\u00e1 <class 'str'>\n",
      "u00f1 \\u00f1 <class 'str'>\n",
      "u00e1 \\u00e1 <class 'str'>\n",
      "u00e1 \\u00e1 <class 'str'>\n",
      "u00ed \\u00ed <class 'str'>\n",
      "u00e1 \\u00e1 <class 'str'>\n",
      "u00e9 \\u00e9 <class 'str'>\n",
      "u00ed \\u00ed <class 'str'>\n",
      "u00ed \\u00ed <class 'str'>\n",
      "u00e1 \\u00e1 <class 'str'>\n"
     ]
    }
   ],
   "source": [
    "import re\n",
    "import urllib.request\n",
    "with urllib.request.urlopen('https://omegaup.com/arena/problem/OMI-2020-Ovejas/') as response:\n",
    "    html = response.read()\n",
    "    \n",
    "regex = r\"(?<=\\\"markdown\\\":\\\")(.*?)(?=\\\")\"\n",
    "match = re.search(regex, str(html)).group()\n",
    "text = str(match.replace(\"\\\\\\\\\", \"\\\\\"))\n",
    "#bytes(text, \"unchange\")\n",
    "#bytes(list( map(ord, list(text)) ))\n",
    "for i in range(len(text)):\n",
    "    if( text[i] == '\\\\' and text[i+1] == 'u'):\n",
    "        char = text[i+1:i+6]\n",
    "        print(str(char), str(f'\\\\{char}'), type(char))"
   ]
  },
  {
   "cell_type": "code",
   "execution_count": 93,
   "id": "950eb313-2f28-437a-8f57-1919df5d49b8",
   "metadata": {},
   "outputs": [
    {
     "data": {
      "text/plain": [
       "b'asd'"
      ]
     },
     "execution_count": 93,
     "metadata": {},
     "output_type": "execute_result"
    }
   ],
   "source": [
    "bytes(list( map(ord, list(\"asd\") ) ))"
   ]
  },
  {
   "cell_type": "code",
   "execution_count": 153,
   "id": "a35893c4-154f-4a3b-bac9-72fa49a39a5e",
   "metadata": {},
   "outputs": [
    {
     "data": {
      "text/plain": [
       "'ñ'"
      ]
     },
     "execution_count": 153,
     "metadata": {},
     "output_type": "execute_result"
    }
   ],
   "source": [
    "a:str = '\\u00f1'\n",
    "str(f'{a}')"
   ]
  },
  {
   "cell_type": "code",
   "execution_count": null,
   "id": "4ca8fba2-29fa-4efa-95f8-0d49df128a78",
   "metadata": {},
   "outputs": [],
   "source": []
  }
 ],
 "metadata": {
  "kernelspec": {
   "display_name": "Python 3",
   "language": "python",
   "name": "python3"
  },
  "language_info": {
   "codemirror_mode": {
    "name": "ipython",
    "version": 3
   },
   "file_extension": ".py",
   "mimetype": "text/x-python",
   "name": "python",
   "nbconvert_exporter": "python",
   "pygments_lexer": "ipython3",
   "version": "3.9.6"
  }
 },
 "nbformat": 4,
 "nbformat_minor": 5
}
