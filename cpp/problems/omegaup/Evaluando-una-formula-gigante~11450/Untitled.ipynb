{
 "cells": [
  {
   "cell_type": "markdown",
   "id": "9798b5ab-131e-4cbd-ad7c-9ca7cc58349c",
   "metadata": {},
   "source": [
    "$$\\frac{\\left(\\frac{2x + y}{z}\\right)(y^3 - z)}{\\frac{x + 2y + 3z}{z - 2y - 3x} + x^2 + z^2}$$"
   ]
  },
  {
   "cell_type": "code",
   "execution_count": 1,
   "id": "231ba2da-ebbf-4a6a-879b-1da315f5a43d",
   "metadata": {},
   "outputs": [],
   "source": [
    "#include <iostream>\n",
    "#include <math.h>\n",
    "using namespace std;"
   ]
  },
  {
   "cell_type": "code",
   "execution_count": 2,
   "id": "cee9ae16-fa5a-494a-9c83-a187cf747529",
   "metadata": {},
   "outputs": [],
   "source": [
    "int main(){\n",
    "  float x, y, z;\n",
    "  cin >> x >> y >> z;\n",
    "  cout << (((2*x+y)/z)*(pow(y, 3)-z))/((x+2*y+3*z)/(z-2*y-3*x)+pow(x,2)+pow(z,2));\n",
    "  return 0;\n",
    "}"
   ]
  },
  {
   "cell_type": "code",
   "execution_count": 3,
   "id": "1595774b-87ba-400b-9aa1-54c5f1beab1d",
   "metadata": {},
   "outputs": [
    {
     "name": "stdin",
     "output_type": "stream",
     "text": [
      " 1\n",
      " 2\n",
      " 3\n"
     ]
    },
    {
     "name": "stdout",
     "output_type": "stream",
     "text": [
      "1.02564"
     ]
    }
   ],
   "source": [
    "main();"
   ]
  },
  {
   "cell_type": "code",
   "execution_count": null,
   "id": "da1db1bf-4fc2-4d96-ab1f-5a123ce9eb45",
   "metadata": {},
   "outputs": [],
   "source": []
  }
 ],
 "metadata": {
  "kernelspec": {
   "display_name": "C++11",
   "language": "C++11",
   "name": "xcpp11"
  },
  "language_info": {
   "codemirror_mode": "text/x-c++src",
   "file_extension": ".cpp",
   "mimetype": "text/x-c++src",
   "name": "c++",
   "version": "11"
  }
 },
 "nbformat": 4,
 "nbformat_minor": 5
}
